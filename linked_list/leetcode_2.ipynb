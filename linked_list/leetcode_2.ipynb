{
 "cells": [
  {
   "cell_type": "markdown",
   "id": "7a6b9c5f-b045-41dd-a688-75640d097cb4",
   "metadata": {},
   "source": [
    "# Leetcode Linked List - adding two numbers  \n",
    "Given two linked list, return a linked list that is an addition of the two lls."
   ]
  },
  {
   "cell_type": "code",
   "execution_count": 5,
   "id": "1fb9e0ab-e91a-4fa3-b39e-d253f5e3a2a0",
   "metadata": {},
   "outputs": [],
   "source": [
    "# Definition for singly-linked list.\n",
    "# class ListNode:\n",
    "#     def __init__(self, val=0, next=None):\n",
    "#         self.val = val\n",
    "#         self.next = next\n",
    "class Solution:\n",
    "    # def addTwoNumbers(self, l1: Optional[ListNode], l2: Optional[ListNode]) -> Optional[ListNode]:\n",
    "    def addTwoNumbers(self, l1, l2):\n",
    "        carry = 0\n",
    "        curr = ListNode()\n",
    "        head = curr\n",
    "\n",
    "        while l1 or l2 or carry: \n",
    "            # if carry is not 0, we need to create a node for the last digit\n",
    "            # ex) 134 + 900 = 1034\n",
    "\n",
    "            l1_val = l1.val if l1 else 0\n",
    "            l2_val = l2.val if l2 else 0\n",
    "\n",
    "            addition = l1_val + l2_val + carry\n",
    "            carry, val = addition // 10, addition % 10\n",
    "            curr.next = ListNode(val=val)\n",
    "            curr = curr.next\n",
    "            \n",
    "            l1 = l1.next if l1 else None\n",
    "            l2 = l2.next if l2 else None\n",
    "        \n",
    "        return head.next"
   ]
  },
  {
   "cell_type": "markdown",
   "id": "3aabc184-8c5a-47b6-b72e-7cbb950d15bd",
   "metadata": {},
   "source": [
    "Time complexity: O(max(n,m)); n, m being the number of nodes in each linked list  \n",
    "Space complexity: O(max(n,m)); to save the result linked list, we need max(n,m) + (0 or 1). "
   ]
  },
  {
   "cell_type": "markdown",
   "id": "7c68fc35-66f2-46b6-9e19-4c93c07054a6",
   "metadata": {},
   "source": [
    "Refactor  \n",
    "- Debated which would be a better method  \n",
    "a) To explicitly check if l1 and l2 are None every time  \n",
    "b) To create dummy nodes for l1 and l2 to avoid edge cases  \n",
    "- went with a eventually for better readability, and to minimize useless space. "
   ]
  }
 ],
 "metadata": {
  "kernelspec": {
   "display_name": "Python 3 (ipykernel)",
   "language": "python",
   "name": "python3"
  },
  "language_info": {
   "codemirror_mode": {
    "name": "ipython",
    "version": 3
   },
   "file_extension": ".py",
   "mimetype": "text/x-python",
   "name": "python",
   "nbconvert_exporter": "python",
   "pygments_lexer": "ipython3",
   "version": "3.9.12"
  }
 },
 "nbformat": 4,
 "nbformat_minor": 5
}
