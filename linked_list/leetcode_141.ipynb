{
 "cells": [
  {
   "cell_type": "markdown",
   "id": "6060a2c0-3542-4f67-8d8d-d4974ee06217",
   "metadata": {},
   "source": [
    "# Linked list - cycle check\n",
    "Check if the given linked list has a cycle."
   ]
  },
  {
   "cell_type": "code",
   "execution_count": 3,
   "id": "25ebbf75-6744-43ba-b83e-6601d85ff0ea",
   "metadata": {},
   "outputs": [],
   "source": [
    "# Definition for singly-linked list.\n",
    "# class ListNode:\n",
    "#     def __init__(self, x):\n",
    "#         self.val = x\n",
    "#         self.next = None\n",
    "\n",
    "class Solution:\n",
    "    def hasCycle(self, head) -> bool:\n",
    "        cur = head\n",
    "        ll_dict = {}\n",
    "        idx = 0\n",
    "        pos = -1\n",
    "        while cur is not None:\n",
    "            ll_dict[cur] = idx\n",
    "            pos = ll_dict.get(cur.next, -1)\n",
    "            if pos != -1:\n",
    "                return True\n",
    "            \n",
    "            cur = cur.next\n",
    "            idx += 1\n",
    "        \n",
    "        return False"
   ]
  },
  {
   "cell_type": "markdown",
   "id": "20007bcb-2d2c-4c8d-b2dd-92b7685121f3",
   "metadata": {},
   "source": [
    "My approach: use dictionary to check if the next element exists in the dictionary already"
   ]
  },
  {
   "cell_type": "markdown",
   "id": "a757cf33-45e6-43e4-8e9a-61311b6a8522",
   "metadata": {},
   "source": [
    "## Better approach : Hare and Tortoise algorithm "
   ]
  },
  {
   "cell_type": "code",
   "execution_count": 4,
   "id": "ab13629c-8606-4a6b-b045-bec31122ffd4",
   "metadata": {},
   "outputs": [],
   "source": [
    "# Definition for singly-linked list.\n",
    "# class ListNode:\n",
    "#     def __init__(self, x):\n",
    "#         self.val = x\n",
    "#         self.next = None\n",
    "\n",
    "class Solution:\n",
    "    def hasCycle(self, head) -> bool:\n",
    "        fast = head\n",
    "        while fast and fast.next:\n",
    "            head = head.next\n",
    "            fast = fast.next.next\n",
    "            \n",
    "            if head is fast:\n",
    "                return True                \n",
    "        \n",
    "        return False"
   ]
  },
  {
   "cell_type": "markdown",
   "id": "a6df289a-f207-45ee-8e6b-ef9b7b22d5c1",
   "metadata": {},
   "source": [
    "Hare and Tortoise algorithm\n",
    "1. 2 pointers : fast pointer and slow pointer\n",
    "2. fast pointer: moves 2 steps at a time, and slow moving 1 at a time\n",
    "3. they will eventually meet -> the gap between them closes 1 at a time. d\n",
    "4. When they meet, it means there's a cycle!!"
   ]
  },
  {
   "cell_type": "code",
   "execution_count": null,
   "id": "e370d733-d891-4cb1-af3c-518dd4760298",
   "metadata": {},
   "outputs": [],
   "source": []
  }
 ],
 "metadata": {
  "kernelspec": {
   "display_name": "Python 3 (ipykernel)",
   "language": "python",
   "name": "python3"
  },
  "language_info": {
   "codemirror_mode": {
    "name": "ipython",
    "version": 3
   },
   "file_extension": ".py",
   "mimetype": "text/x-python",
   "name": "python",
   "nbconvert_exporter": "python",
   "pygments_lexer": "ipython3",
   "version": "3.9.12"
  }
 },
 "nbformat": 4,
 "nbformat_minor": 5
}
