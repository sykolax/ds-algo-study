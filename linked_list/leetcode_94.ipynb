{
 "cells": [
  {
   "cell_type": "markdown",
   "id": "f6571da1-81d3-425f-ab72-051fadd9633b",
   "metadata": {},
   "source": [
    "# Tree - inorder Traversal"
   ]
  },
  {
   "cell_type": "code",
   "execution_count": null,
   "id": "1651ca61-dade-405d-9e11-f2f39dcb717d",
   "metadata": {},
   "outputs": [],
   "source": [
    "# Definition for a binary tree node.\n",
    "# class TreeNode:\n",
    "#     def __init__(self, val=0, left=None, right=None):\n",
    "#         self.val = val\n",
    "#         self.left = left\n",
    "#         self.right = right\n",
    "\n",
    "class Solution:\n",
    "    def inorder(self, root: Optional[TreeNode], result: List):\n",
    "        if root is None:\n",
    "            return []\n",
    "        self.inorder(root.left, result)\n",
    "        result.append(root.val)\n",
    "        self.inorder(root.right, result)\n",
    "\n",
    "    def inorderTraversal(self, root: Optional[TreeNode]) -> List[int]:\n",
    "        result = []\n",
    "        self.inorder(root, result)\n",
    "        return result"
   ]
  },
  {
   "cell_type": "code",
   "execution_count": null,
   "id": "7d9b6e5e-c4f2-448a-9a87-19c37e08b36c",
   "metadata": {
    "tags": []
   },
   "outputs": [],
   "source": [
    "# Definition for a binary tree node.\n",
    "# class TreeNode:\n",
    "#     def __init__(self, val=0, left=None, right=None):\n",
    "#         self.val = val\n",
    "#         self.left = left\n",
    "#         self.right = right\n",
    "\n",
    "class Solution:\n",
    "    def inorderTraversal(self, root: Optional[TreeNode]) -> List[int]:\n",
    "        res = []\n",
    "        stack = []\n",
    "        current = root\n",
    "      \n",
    "        while stack or current:\n",
    "            \n",
    "            while current:\n",
    "                stack.append(current)\n",
    "                current = current.left\n",
    "            \n",
    "            current = stack.pop()\n",
    "            res.append(current.val)\n",
    "            current = current.right\n",
    "            \n",
    "        return res     "
   ]
  },
  {
   "cell_type": "markdown",
   "id": "1399a63a-70cb-4101-a703-512feef17388",
   "metadata": {},
   "source": [
    "Solved with 1) recursive way and 2) iterative way  \n",
    "- time complexity: O(n), since it's visiting one node at a time\n",
    "- space complexity: O(n), when it's a skewed binary tree, O(log n) for best case(depth of the tree)  "
   ]
  }
 ],
 "metadata": {
  "kernelspec": {
   "display_name": "Python 3 (ipykernel)",
   "language": "python",
   "name": "python3"
  },
  "language_info": {
   "codemirror_mode": {
    "name": "ipython",
    "version": 3
   },
   "file_extension": ".py",
   "mimetype": "text/x-python",
   "name": "python",
   "nbconvert_exporter": "python",
   "pygments_lexer": "ipython3",
   "version": "3.9.12"
  }
 },
 "nbformat": 4,
 "nbformat_minor": 5
}
