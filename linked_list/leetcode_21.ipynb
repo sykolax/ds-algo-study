{
 "cells": [
  {
   "cell_type": "markdown",
   "id": "d0122f4b-b70a-4604-997e-8f085fc72168",
   "metadata": {},
   "source": [
    "## Merge 2 sorted linked lists\n",
    "Given two sorted linked lists, return a merged linked list of the two"
   ]
  },
  {
   "cell_type": "code",
   "execution_count": 2,
   "id": "737df054-7c70-4c83-91b6-5048ba747aa7",
   "metadata": {},
   "outputs": [],
   "source": [
    "from typing import Optional"
   ]
  },
  {
   "cell_type": "code",
   "execution_count": 5,
   "id": "312fe2a8-b451-40db-8b7e-0e4f1d1b04e7",
   "metadata": {},
   "outputs": [],
   "source": [
    "# Definition for singly-linked list.\n",
    "class ListNode:\n",
    "    def __init__(self, val=0, next=None):\n",
    "        self.val = val\n",
    "        self.next = next\n",
    "        \n",
    "class Solution:\n",
    "    def mergeTwoLists(self, list1: Optional[ListNode], list2: Optional[ListNode]) -> Optional[ListNode]:\n",
    "        dummy = ListNode()\n",
    "        current = dummy \n",
    "\n",
    "        while list1 and list2:\n",
    "            if list1.val <= list2.val:\n",
    "                current.next = list1\n",
    "                list1 = list1.next\n",
    "            else:\n",
    "                current.next = list2\n",
    "                list2 = list2.next\n",
    "            current = current.next\n",
    "        \n",
    "        # the remaining linked list can be linked at the end!\n",
    "        current.next = list1 if list1 else list2\n",
    "        \n",
    "        return dummy.next"
   ]
  },
  {
   "cell_type": "markdown",
   "id": "9eb7c6cd-e779-492c-aee2-be9110a5a08d",
   "metadata": {},
   "source": [
    "Time complexity: O(min(m,n)); m,n being the number of elements in each linked list.  \n",
    "Space complexity: O(1) "
   ]
  },
  {
   "cell_type": "markdown",
   "id": "354cc2f9-0e9d-43e1-a131-2e2e2dec5978",
   "metadata": {},
   "source": [
    "- After writing the code, realized that when one linked list is done traversing, I don't have to go through while loop! \n",
    "- I could just link the first node of the remaining linked list and rest are already linked!!"
   ]
  }
 ],
 "metadata": {
  "kernelspec": {
   "display_name": "Python 3 (ipykernel)",
   "language": "python",
   "name": "python3"
  },
  "language_info": {
   "codemirror_mode": {
    "name": "ipython",
    "version": 3
   },
   "file_extension": ".py",
   "mimetype": "text/x-python",
   "name": "python",
   "nbconvert_exporter": "python",
   "pygments_lexer": "ipython3",
   "version": "3.9.12"
  }
 },
 "nbformat": 4,
 "nbformat_minor": 5
}
